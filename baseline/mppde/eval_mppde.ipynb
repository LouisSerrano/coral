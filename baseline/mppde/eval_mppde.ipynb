{
 "cells": [
  {
   "cell_type": "code",
   "execution_count": 2,
   "metadata": {},
   "outputs": [],
   "source": [
    "from utils import mppde_create_data, mppde_pushforward, mppde_test_rollout, GraphTemporalDataset, KEY_TO_INDEX\n",
    "from coral.utils.data.load_data import get_dynamics_data, set_seed\n",
    "from model import MP_PDE_Solver\n",
    "from omegaconf import DictConfig, OmegaConf\n",
    "import wandb\n",
    "import torch.nn as nn\n",
    "import torch.nn.functional as F\n",
    "import torch\n",
    "import numpy as np\n",
    "import hydra\n",
    "import os\n",
    "import yaml\n",
    "from pathlib import Path\n",
    "from pickletools import OpcodeInfo\n",
    "from torch.nn.utils import weight_norm\n",
    "\n",
    "from torch_geometric.loader import DataLoader\n",
    "from torch_geometric.data import Data"
   ]
  },
  {
   "cell_type": "code",
   "execution_count": 7,
   "metadata": {},
   "outputs": [
    {
     "name": "stdout",
     "output_type": "stream",
     "text": [
      "data: navier-stokes-dino, u_train: torch.Size([256, 819, 1, 20]), u_test: torch.Size([16, 819, 1, 40])\n",
      "grid: grid_tr: torch.Size([256, 819, 2, 20]), grid_te: torch.Size([16, 819, 2, 40])\n",
      "self values torch.Size([16, 819, 1, 40])\n",
      "self grid torch.Size([16, 819, 2, 40])\n",
      "data before torch.Size([13104, 1, 40])\n"
     ]
    }
   ],
   "source": [
    "cfg = DictConfig(yaml.safe_load(open(\"config.yaml\")))\n",
    "dataset_name = cfg.data.dataset_name\n",
    "\n",
    "run_name = cfg.model.run_name\n",
    "run_name= 'fanciful-leaf-5019'\n",
    "dataset_name = 'navier-stokes-dino'\n",
    "root_dir = Path(os.getenv(\"WANDB_DIR\")) / dataset_name\n",
    "\n",
    "tmp = torch.load(root_dir / \"model\" / f\"{run_name}.pt\")\n",
    "cfg = tmp['cfg']\n",
    "\n",
    "dataset_name = cfg.data.dataset_name\n",
    "data_dir = cfg.data.dir\n",
    "ntrain = cfg.data.ntrain\n",
    "ntest = cfg.data.ntest\n",
    "data_to_encode = cfg.data.data_to_encode\n",
    "sub_tr = cfg.data.sub_tr\n",
    "sub_from = cfg.data.sub_from\n",
    "sub_te = cfg.data.sub_te\n",
    "seed = cfg.data.seed\n",
    "same_grid = cfg.data.same_grid\n",
    "seq_inter_len = 20\n",
    "seq_extra_len = 20\n",
    "\n",
    "# optim\n",
    "batch_size = cfg.optim.batch_size\n",
    "time_window = 1\n",
    "\n",
    "# model\n",
    "hidden_features = 64\n",
    "\n",
    "set_seed(seed)\n",
    "\n",
    "\n",
    "(u_train, u_eval_extrapolation, u_test, grid_tr, grid_tr_extra, grid_te) = get_dynamics_data(\n",
    "    data_dir,\n",
    "    dataset_name,\n",
    "    ntrain,\n",
    "    ntest,\n",
    "    seq_inter_len=seq_inter_len,\n",
    "    seq_extra_len=seq_extra_len,\n",
    "    sub_from=sub_from,\n",
    "    sub_tr=sub_tr,\n",
    "    sub_te=sub_te,\n",
    "    same_grid=same_grid,\n",
    ")\n",
    "\n",
    "print(\n",
    "    f\"data: {dataset_name}, u_train: {u_train.shape}, u_test: {u_test.shape}\")\n",
    "print(f\"grid: grid_tr: {grid_tr.shape}, grid_te: {grid_te.shape}\")\n",
    "\n",
    "# total frames = num_trajectories * sequence_length\n",
    "T = u_train.shape[-1]\n",
    "\n",
    "ntrain = u_train.shape[0]  # int(u_train.shape[0]*T)\n",
    "ntest = u_test.shape[0]  # int(u_test.shape[0]*T)\n",
    "\n",
    "testset = GraphTemporalDataset(\n",
    "    u_test, grid_te\n",
    ")\n",
    "\n",
    "dt = 1\n",
    "timestamps = torch.arange(0, T, dt).float().cuda()#0.1\n",
    "T_in = 20\n",
    "T_out = 40\n",
    "\n",
    "# create torch dataset\n",
    "test_loader = DataLoader(\n",
    "    testset,\n",
    "    batch_size=batch_size,\n",
    "    shuffle=True,\n",
    "    num_workers=1,\n",
    ")\n",
    "\n",
    "if dataset_name == \"navier-stokes-dino\":\n",
    "    pos_dim = 2\n",
    "    input_dim = 1\n",
    "    output_dim = 1\n",
    "    time_window = 1\n",
    "\n",
    "elif dataset_name == \"shallow-water-dino\":\n",
    "    pos_dim = 3\n",
    "    input_dim = 2 \n",
    "    output_dim = 2\n",
    "    time_window = 1\n",
    "\n",
    "model = MP_PDE_Solver(pos_dim=pos_dim,\n",
    "                        input_dim=input_dim,\n",
    "                        output_dim=output_dim,\n",
    "                        time_window=time_window,\n",
    "                        hidden_features=hidden_features,\n",
    "                        hidden_layer=6).cuda()\n",
    "\n",
    "model.load_state_dict(tmp['model'])\n",
    "\n",
    "pred_test_mse = 0\n",
    "pred_test_out_mse = 0\n",
    "pred_test_in_mse = 0\n",
    "pred_test_mse = 0\n",
    "code_test_mse = 0\n",
    "\n",
    "for graph, idx in test_loader:\n",
    "    model.eval()\n",
    "    n_samples = len(graph)\n",
    "\n",
    "    graph = graph.cuda()\n",
    "    with torch.no_grad():\n",
    "        loss = mppde_pushforward(model, graph)\n",
    "    code_test_mse += loss.item() * n_samples\n",
    "\n",
    "    with torch.no_grad():\n",
    "        u_pred = mppde_test_rollout(model, graph, bundle_size=1)\n",
    "        pred_test_mse += ((u_pred - graph.images) ** 2).mean() * n_samples\n",
    "        pred_test_in_mse += ((u_pred[..., :T_in] - graph.images[..., :T_in]) ** 2).mean() * n_samples\n",
    "        pred_test_out_mse += ((u_pred[..., T_in:] - graph.images[..., T_in:]) ** 2).mean() * n_samples\n",
    "\n",
    "code_test_mse = code_test_mse / ntest\n",
    "pred_test_mse = pred_test_mse / ntest\n",
    "pred_test_in_mse = pred_test_in_mse / ntest\n",
    "pred_test_out_mse = pred_test_out_mse / ntest"
   ]
  },
  {
   "cell_type": "code",
   "execution_count": 8,
   "metadata": {},
   "outputs": [
    {
     "name": "stdout",
     "output_type": "stream",
     "text": [
      "0.2 4 0.2\n"
     ]
    }
   ],
   "source": [
    "print(sub_tr, sub_from, sub_te)"
   ]
  },
  {
   "cell_type": "code",
   "execution_count": 9,
   "metadata": {},
   "outputs": [
    {
     "name": "stdout",
     "output_type": "stream",
     "text": [
      "pred_test_in_mse :  tensor(0.6107, device='cuda:0')\n"
     ]
    }
   ],
   "source": [
    "print(\"pred_test_in_mse : \", pred_test_in_mse)"
   ]
  },
  {
   "cell_type": "code",
   "execution_count": 10,
   "metadata": {},
   "outputs": [
    {
     "name": "stdout",
     "output_type": "stream",
     "text": [
      "pred_test_out_mse :  tensor(0.6100, device='cuda:0')\n"
     ]
    }
   ],
   "source": [
    "print(\"pred_test_out_mse : \", pred_test_out_mse)"
   ]
  },
  {
   "attachments": {},
   "cell_type": "markdown",
   "metadata": {},
   "source": [
    "sub tr = 5 %\n",
    "\n",
    "6.3e-3 & 2.74e-2\n",
    "\n",
    "sub_te = 4\n",
    "6.4e-3 & 2.49e-2\n",
    "\n",
    "sub_te = 2\n",
    "9.8e-3 & 4.89e-2\n",
    "\n",
    "sub_te = 1\n",
    "1.12e-2 & 6.4e-2\n",
    "\n",
    "sub tr 20 %\n"
   ]
  },
  {
   "attachments": {},
   "cell_type": "markdown",
   "metadata": {},
   "source": [
    "20% : 0.0133 et 0.0713\n",
    "5% : 0.0078 et 0.0276\n"
   ]
  }
 ],
 "metadata": {
  "kernelspec": {
   "display_name": "Python 3 (ipykernel)",
   "language": "python",
   "name": "python3"
  },
  "language_info": {
   "codemirror_mode": {
    "name": "ipython",
    "version": 3
   },
   "file_extension": ".py",
   "mimetype": "text/x-python",
   "name": "python",
   "nbconvert_exporter": "python",
   "pygments_lexer": "ipython3",
   "version": "3.11.3"
  },
  "orig_nbformat": 4
 },
 "nbformat": 4,
 "nbformat_minor": 2
}
